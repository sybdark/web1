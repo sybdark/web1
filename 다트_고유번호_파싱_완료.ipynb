{
  "nbformat": 4,
  "nbformat_minor": 0,
  "metadata": {
    "colab": {
      "provenance": [],
      "toc_visible": true,
      "authorship_tag": "ABX9TyOtkhkllkvWSdOoG0mWvqZb",
      "include_colab_link": true
    },
    "kernelspec": {
      "name": "python3",
      "display_name": "Python 3"
    },
    "language_info": {
      "name": "python"
    }
  },
  "cells": [
    {
      "cell_type": "markdown",
      "metadata": {
        "id": "view-in-github",
        "colab_type": "text"
      },
      "source": [
        "<a href=\"https://colab.research.google.com/github/sybdark/web1/blob/master/%EB%8B%A4%ED%8A%B8_%EA%B3%A0%EC%9C%A0%EB%B2%88%ED%98%B8_%ED%8C%8C%EC%8B%B1_%EC%99%84%EB%A3%8C.ipynb\" target=\"_parent\"><img src=\"https://colab.research.google.com/assets/colab-badge.svg\" alt=\"Open In Colab\"/></a>"
      ]
    },
    {
      "cell_type": "code",
      "execution_count": 1,
      "metadata": {
        "colab": {
          "base_uri": "https://localhost:8080/"
        },
        "id": "Y5epbN8-DlN0",
        "outputId": "29306ddc-3b12-417f-e07d-1ceb885f19e5"
      },
      "outputs": [
        {
          "output_type": "stream",
          "name": "stdout",
          "text": [
            "Mounted at /content/drive\n",
            "  corp_code          corp_name stock_code modify_date\n",
            "0  00434003                 다코               20170630\n",
            "1  00430964              굿앤엘에스               20170630\n",
            "2  00388953  크레디피아제이십오차유동화전문회사               20170630\n",
            "3  00179984             연방건설산업               20170630\n",
            "4  00420143     브룩스피알아이오토메이션잉크               20170630\n"
          ]
        }
      ],
      "source": [
        "# Step 1: Mount Google Drive\n",
        "from google.colab import drive\n",
        "drive.mount('/content/drive', force_remount=True)  # Forcibly remount if already mounted\n",
        "\n",
        "# Step 2: Set the correct path for extraction\n",
        "import os\n",
        "\n",
        "# Define the directory where you want to extract the XML file\n",
        "extraction_path = '/content/drive/My Drive/Colab Notebooks/corp_num/'\n",
        "\n",
        "# Create the directory if it doesn't exist\n",
        "os.makedirs(extraction_path, exist_ok=True)\n",
        "\n",
        "# Step 3: Import necessary libraries\n",
        "import pandas as pd\n",
        "from urllib.request import urlopen\n",
        "from io import BytesIO\n",
        "from zipfile import ZipFile\n",
        "import xml.etree.ElementTree as ET\n",
        "\n",
        "# Step 4: Download and extract the ZIP file containing CORPCODE.xml\n",
        "url = 'https://opendart.fss.or.kr/api/corpCode.xml?crtfc_key=4322d87404f402e04b76de113ac9b615b485db3d'\n",
        "\n",
        "# Fetch and extract the ZIP file\n",
        "with urlopen(url) as zipresp:\n",
        "    with ZipFile(BytesIO(zipresp.read())) as zfile:\n",
        "        zfile.extractall(extraction_path)\n",
        "\n",
        "# Step 5: Parse the CORPCODE.xml file\n",
        "xml_file_path = os.path.join(extraction_path, \"CORPCODE.xml\")\n",
        "\n",
        "# Verify that the XML file exists\n",
        "if not os.path.exists(xml_file_path):\n",
        "    raise FileNotFoundError(f\"The file {xml_file_path} does not exist.\")\n",
        "\n",
        "# Parse the XML file\n",
        "tree = ET.parse(xml_file_path)\n",
        "root = tree.getroot()\n",
        "\n",
        "# Step 6: (Optional) Convert XML data to a pandas DataFrame\n",
        "# This step depends on the structure of your XML. Here's a generic example:\n",
        "\n",
        "data = []\n",
        "for corp in root.findall('list'):  # Adjust the tag based on your XML structure\n",
        "    corp_data = {}\n",
        "    for child in corp:\n",
        "        corp_data[child.tag] = child.text\n",
        "    data.append(corp_data)\n",
        "\n",
        "df = pd.DataFrame(data)\n",
        "\n",
        "# Display the first few rows of the DataFrame\n",
        "print(df.head())\n"
      ]
    }
  ]
}